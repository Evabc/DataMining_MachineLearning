{
 "cells": [
  {
   "cell_type": "code",
   "execution_count": 1,
   "metadata": {},
   "outputs": [],
   "source": [
    "import numpy as np\n",
    "from sklearn.datasets import load_iris\n",
    "from sklearn.model_selection import train_test_split\n",
    "from sklearn.neighbors import KNeighborsClassifier\n",
    "import matplotlib.pyplot as plt"
   ]
  },
  {
   "cell_type": "code",
   "execution_count": 2,
   "metadata": {},
   "outputs": [],
   "source": [
    "iris = load_iris()\n",
    "data = iris.data\n",
    "target = iris.target"
   ]
  },
  {
   "cell_type": "code",
   "execution_count": 3,
   "metadata": {},
   "outputs": [],
   "source": [
    "data_train,data_test,target_train,target_test=train_test_split(data,target,test_size=0.3,random_state=0)"
   ]
  },
  {
   "cell_type": "code",
   "execution_count": 5,
   "metadata": {},
   "outputs": [],
   "source": [
    "#下面我沒變KNeighborsClassifier()中的預設參數(K=5)，想自己改參數(例如K值)\n",
    "#可以參考https://scikit-learn.org/stable/modules/generated/sklearn.neighbors.KNeighborsClassifier.html\n",
    "knn = KNeighborsClassifier()\n",
    "knn.fit(data_train,target_train)\n",
    "target_predict=knn.predict(data_test)\n",
    "score=knn.score(data_test,target_test,sample_weight=None)\n",
    "knn_target_test=target_predict"
   ]
  },
  {
   "cell_type": "code",
   "execution_count": 6,
   "metadata": {},
   "outputs": [
    {
     "name": "stdout",
     "output_type": "stream",
     "text": [
      "predict:[2 1 0 2 0 2 0 1 1 1 2 1 1 1 1 0 1 1 0 0 2 1 0 0 2 0 0 1 1 0 2 1 0 2 2 1 0\n",
      " 2 1 1 2 0 2 0 0]\n",
      "score:0.9777777777777777\n"
     ]
    }
   ],
   "source": [
    "print('predict:{}'.format(target_predict))\n",
    "print('score:{}'.format(score))"
   ]
  },
  {
   "cell_type": "code",
   "execution_count": 7,
   "metadata": {},
   "outputs": [
    {
     "data": {
      "image/png": "[encoded data removed]",
      "text/plain": [
       "<Figure size 432x288 with 1 Axes>"
      ]
     },
     "metadata": {
      "needs_background": "light"
     },
     "output_type": "display_data"
    }
   ],
   "source": [
    "for i in range(len(target_test)):\n",
    "    if target_test[i]==0:\n",
    "        plt.scatter(data_test[i][0],data_test[i][2],c='r')\n",
    "    if target_test[i]==1:\n",
    "        plt.scatter(data_test[i][0],data_test[i][2],c='g')\n",
    "    if target_test[i]==2:\n",
    "        plt.scatter(data_test[i][0],data_test[i][2],c='b')\n",
    "plt.title('target_test')\n",
    "plt.xlabel('first feature:')\n",
    "plt.ylabel('second feature:')\n",
    "plt.show()"
   ]
  },
  {
   "cell_type": "code",
   "execution_count": 8,
   "metadata": {},
   "outputs": [
    {
     "data": {
      "image/png": "[encoded data removed]",
      "text/plain": [
       "<Figure size 432x288 with 1 Axes>"
      ]
     },
     "metadata": {
      "needs_background": "light"
     },
     "output_type": "display_data"
    }
   ],
   "source": [
    "for i in range(len(knn_target_test)):\n",
    "    if knn_target_test[i]==0:\n",
    "        plt.scatter(data_test[i][0],data_test[i][2],c='r')\n",
    "    if knn_target_test[i]==1:\n",
    "        plt.scatter(data_test[i][0],data_test[i][2],c='g')\n",
    "    if knn_target_test[i]==2:\n",
    "        plt.scatter(data_test[i][0],data_test[i][2],c='b')\n",
    "plt.title('knn_target_test')\n",
    "plt.xlabel('first feature:')\n",
    "plt.ylabel('second feature:')\n",
    "plt.show()"
   ]
  },
  {
   "cell_type": "code",
   "execution_count": null,
   "metadata": {},
   "outputs": [],
   "source": []
  }
 ],
 "metadata": {
  "kernelspec": {
   "display_name": "Python 3",
   "language": "python",
   "name": "python3"
  },
  "language_info": {
   "codemirror_mode": {
    "name": "ipython",
    "version": 3
   },
   "file_extension": ".py",
   "mimetype": "text/x-python",
   "name": "python",
   "nbconvert_exporter": "python",
   "pygments_lexer": "ipython3",
   "version": "3.8.3"
  }
 },
 "nbformat": 4,
 "nbformat_minor": 4
}
